{
 "cells": [
  {
   "cell_type": "code",
   "execution_count": 1,
   "metadata": {},
   "outputs": [],
   "source": [
    "from binascii import hexlify, unhexlify\n"
   ]
  },
  {
   "cell_type": "code",
   "execution_count": 2,
   "metadata": {},
   "outputs": [],
   "source": [
    "# 1b37373331363f78151b7f2b783431333d78397828372d363c78373e783a393b3736\n",
    "# ... has been XOR'd against a single character. Find the key, decrypt the message.\n",
    "\n",
    "# You can do this by hand. But don't: write code to do it for you.\n",
    "\n",
    "# How? Devise some method for \"scoring\" a piece of English plaintext. Character frequency is a good metric. Evaluate each output and choose the one with the best score.\n"
   ]
  },
  {
   "cell_type": "code",
   "execution_count": 3,
   "metadata": {},
   "outputs": [],
   "source": [
    "def bxor(a, b):\n",
    "    \"bitwise XOR of bytestrings\"\n",
    "    return bytes([ x^y for (x,y) in zip(a, b)])\n"
   ]
  },
  {
   "cell_type": "code",
   "execution_count": 4,
   "metadata": {},
   "outputs": [
    {
     "data": {
      "text/plain": [
       "b'j|3dr``fc'"
      ]
     },
     "execution_count": 4,
     "metadata": {},
     "output_type": "execute_result"
    }
   ],
   "source": [
    "msg = b\"yo wassup\"\n",
    "\n",
    "# random number btn 0-255 lets say 13\n",
    "key = b\"\\x13\"\n",
    "\n",
    "# the byte string we will XOR the message against is usually called the \"keystream\"\n",
    "keystream = key*len(msg)\n",
    "\n",
    "bxor(msg,keystream)"
   ]
  },
  {
   "cell_type": "code",
   "execution_count": 5,
   "metadata": {},
   "outputs": [
    {
     "data": {
      "text/plain": [
       "b'\\x1b77316?x\\x15\\x1b\\x7f+x413=x9x(7-6<x7>x:9;76'"
      ]
     },
     "execution_count": 5,
     "metadata": {},
     "output_type": "execute_result"
    }
   ],
   "source": [
    "ciphertext = unhexlify(\"1b37373331363f78151b7f2b783431333d78397828372d363c78373e783a393b3736\")\n",
    "ciphertext"
   ]
  },
  {
   "cell_type": "code",
   "execution_count": 7,
   "metadata": {},
   "outputs": [
    {
     "data": {
      "text/plain": [
       "b'\\x1a66207>y\\x14\\x1a~*y502<y8y)6,7=y6?y;8:67'"
      ]
     },
     "execution_count": 7,
     "metadata": {},
     "output_type": "execute_result"
    }
   ],
   "source": [
    "candidate_key = bytes([1])\n",
    "keystream = candidate_key*len(ciphertext)\n",
    "\n",
    "bxor(ciphertext, keystream)"
   ]
  },
  {
   "cell_type": "code",
   "execution_count": 10,
   "metadata": {},
   "outputs": [
    {
     "data": {
      "text/plain": [
       "(97, 98, 122)"
      ]
     },
     "execution_count": 10,
     "metadata": {},
     "output_type": "execute_result"
    }
   ],
   "source": [
    "ord('a'), ord('b'), ord('z')"
   ]
  },
  {
   "cell_type": "code",
   "execution_count": 15,
   "metadata": {},
   "outputs": [],
   "source": [
    "\n",
    "ascii_text_chars = list(range(97, 122)) + [32]\n"
   ]
  },
  {
   "cell_type": "code",
   "execution_count": 19,
   "metadata": {},
   "outputs": [
    {
     "data": {
      "text/plain": [
       "[True, True, True, True, True, True, False, True]"
      ]
     },
     "execution_count": 19,
     "metadata": {},
     "output_type": "execute_result"
    }
   ],
   "source": [
    "[ x in ascii_text_chars for x in b\"yo bro? \"]"
   ]
  },
  {
   "cell_type": "code",
   "execution_count": 20,
   "metadata": {},
   "outputs": [
    {
     "data": {
      "text/plain": [
       "7"
      ]
     },
     "execution_count": 20,
     "metadata": {},
     "output_type": "execute_result"
    }
   ],
   "source": [
    "sum([ x in ascii_text_chars for x in b\"yo bro?\"])"
   ]
  },
  {
   "cell_type": "code",
   "execution_count": 21,
   "metadata": {},
   "outputs": [],
   "source": [
    "def letter_ratio(input_bytes):\n",
    "    nb_letters = sum([ x in ascii_text_chars for x in input_bytes])\n",
    "    return nb_letters / len(input_bytes)\n",
    "\n",
    "def is_probably_text(input_bytes):\n",
    "    r = letter_ratio(input_bytes)\n",
    "    return True if r>0.7 else False"
   ]
  },
  {
   "cell_type": "code",
   "execution_count": 23,
   "metadata": {},
   "outputs": [
    {
     "data": {
      "text/plain": [
       "False"
      ]
     },
     "execution_count": 23,
     "metadata": {},
     "output_type": "execute_result"
    }
   ],
   "source": [
    "is_probably_text(b\"yo bro 12222222222?\")"
   ]
  },
  {
   "cell_type": "code",
   "execution_count": 24,
   "metadata": {},
   "outputs": [
    {
     "name": "stdout",
     "output_type": "stream",
     "text": [
      "key: b'X'\n",
      "message: b\"Cooking MC's like a pound of bacon\"\n",
      "nb of letters: 30\n"
     ]
    },
    {
     "data": {
      "text/plain": [
       "True"
      ]
     },
     "execution_count": 24,
     "metadata": {},
     "output_type": "execute_result"
    }
   ],
   "source": [
    "def attack_single_byte_xor(ciphertext):\n",
    "    # a variable to keep track of the best candidate so far\n",
    "    best = None\n",
    "    for i in range(2**8): # for every possible key\n",
    "        # converting the key from a number to a byte\n",
    "        candidate_key = i.to_bytes(1, byteorder='big')\n",
    "        keystream = candidate_key*len(ciphertext)\n",
    "        candidate_message = bxor(ciphertext, keystream)\n",
    "        nb_letters = sum([ x in ascii_text_chars for x in candidate_message])\n",
    "        # if the obtained message has more letters than any other candidate before\n",
    "        if best == None or nb_letters > best['nb_letters']:\n",
    "            # store the current key and message as our best candidate so far\n",
    "            best = {\"message\": candidate_message, 'nb_letters': nb_letters, 'key': candidate_key}\n",
    "    return best\n",
    "\n",
    "result = attack_single_byte_xor(ciphertext)\n",
    "\n",
    "print('key:', result['key'])\n",
    "print('message:', result['message'])\n",
    "print('nb of letters:', result['nb_letters'])\n",
    "\n",
    "(is_probably_text(result['message']))"
   ]
  },
  {
   "cell_type": "code",
   "execution_count": 40,
   "metadata": {},
   "outputs": [
    {
     "data": {
      "text/plain": [
       "b'\\x1b77316?x\\x15\\x1b\\x7f+x413=x9x(7-6<x7>x:9;76'"
      ]
     },
     "execution_count": 40,
     "metadata": {},
     "output_type": "execute_result"
    }
   ],
   "source": [
    "ciphertext"
   ]
  },
  {
   "cell_type": "code",
   "execution_count": 42,
   "metadata": {},
   "outputs": [],
   "source": [
    "def xor_with_character(input_string, char):\n",
    "    char_byte = ord(char)  # Convert the character to its ASCII value\n",
    "    result_bytes = bytes([byte ^ char_byte for byte in input_string.encode('utf-8')])  # XOR each byte with the character\n",
    "    return result_bytes.hex()  # Convert the result to a hex string\n"
   ]
  },
  {
   "cell_type": "code",
   "execution_count": 62,
   "metadata": {},
   "outputs": [
    {
     "data": {
      "text/plain": [
       "'5b1c383d243f3638713c38223938223930713c3833303f36347122343d343c303f385b1a243b38213e222538223930713a303c3071263471333e22227128303f385b06347122343d343c303f387126347122343d347122343d347122343d3471715b'"
      ]
     },
     "execution_count": 62,
     "metadata": {},
     "output_type": "execute_result"
    }
   ],
   "source": [
    "sele = \"\"\"\n",
    "Milungi mishisha mibange selemani\n",
    "Kujipostisha kama we boss yani\n",
    "We selemani we sele sele sele  \n",
    "\"\"\"\n",
    "hex_cypher_sele = xor_with_character(sele, \"Q\")\n",
    "hex_cypher_sele"
   ]
  },
  {
   "cell_type": "code",
   "execution_count": 63,
   "metadata": {},
   "outputs": [
    {
     "data": {
      "text/plain": [
       "b'[\\x1c8=$?68q<8\"98\"90q<830?64q\"4=4<0?8[\\x1a$;8!>\"%8\"90q:0<0q&4q3>\"\"q(0?8[\\x064q\"4=4<0?8q&4q\"4=4q\"4=4q\"4=4qq['"
      ]
     },
     "execution_count": 63,
     "metadata": {},
     "output_type": "execute_result"
    }
   ],
   "source": [
    "cypher_sele = unhexlify(hex_cypher_sele)\n",
    "cypher_sele"
   ]
  },
  {
   "cell_type": "code",
   "execution_count": 70,
   "metadata": {},
   "outputs": [
    {
     "name": "stdout",
     "output_type": "stream",
     "text": [
      "key🥷: \u001b[92mb'Q'\u001b[0m\n",
      "message🙅‍♂️: \u001b[94m\n",
      "Milungi mishisha mibange selemani\n",
      "Kujipostisha kama we boss yani\n",
      "We selemani we sele sele sele  \n",
      "\u001b[0m\n"
     ]
    }
   ],
   "source": [
    "cracked_sele = attack_single_byte_xor(cypher_sele)\n",
    "\n",
    "print('key🥷:', '\\033[92m' + str(cracked_sele['key']) + '\\033[0m')\n",
    "message_bytes = cracked_sele['message']\n",
    "message_str = message_bytes.decode('utf-8')\n",
    "print('message🙅‍♂️:', '\\033[94m' + message_str + '\\033[0m')\n",
    "\n"
   ]
  },
  {
   "cell_type": "code",
   "execution_count": null,
   "metadata": {},
   "outputs": [],
   "source": []
  }
 ],
 "metadata": {
  "kernelspec": {
   "display_name": "Python 3",
   "language": "python",
   "name": "python3"
  },
  "language_info": {
   "codemirror_mode": {
    "name": "ipython",
    "version": 3
   },
   "file_extension": ".py",
   "mimetype": "text/x-python",
   "name": "python",
   "nbconvert_exporter": "python",
   "pygments_lexer": "ipython3",
   "version": "3.11.4"
  },
  "orig_nbformat": 4
 },
 "nbformat": 4,
 "nbformat_minor": 2
}
